{
 "cells": [
  {
   "cell_type": "markdown",
   "metadata": {},
   "source": [
    "# Tarea 2\n",
    "\n",
    "## Conocimiento teórico de Álgebra Lineal"
   ]
  },
  {
   "cell_type": "markdown",
   "metadata": {},
   "source": [
    "1. ¿Por qué una matriz equivale a una transformación lineal entre espacios vectoriales?\n",
    "2. ¿Cuál es el efecto de transformación lineal de una matriz diagonal y el de una matriz ortogonal?\n",
    "3. ¿Qué es la descomposición en valores singulares de una matriz?\n",
    "4. ¿Qué es diagonalizar una matriz y que representan los eigenvectores?\n",
    "5. ¿ Intuitivamente qué son los eigenvectores?\n",
    "6. ¿Cómo interpretas la descomposición en valores singulares como una composición de tres tipos\n",
    "de transformaciones lineales simples?\n",
    "7. ¿Qué relación hay entre la descomposición en valores singulares y la diagonalización?\n",
    "8. ¿Cómo se usa la descomposición en valores singulares para dar un aproximación de rango menor\n",
    "a una matriz?\n",
    "9. Describe el método de minimización por descenso gradiente\n",
    "10. Menciona 4 ejemplo de problemas de optimización (dos con restricciones y dos sin restricciones) que te parecan interesantes como Científico de Datos"
   ]
  },
  {
   "cell_type": "markdown",
   "metadata": {},
   "source": [
    "### Pregunta 1\n",
    "\n",
    "Una matriz equivale a una transformación lineal entre espacios vectoriales porque la mayoría de las transformaciones lineales pueden ser descritas en términos matriciales. Esto quiere decir que se puede tomar un espacio vectorial, y al multipicarlo por cierta matriz el espacio anterior puede representar un nuevo espacio vectorial.\n"
   ]
  },
  {
   "cell_type": "markdown",
   "metadata": {},
   "source": [
    "### Pregunta 2\n",
    "\n",
    "Una matriz diagonal es una transformación lineal uno a uno, (por lo que al realizar la transformación ningun vector se colapsa) lo que permite obtener todos los vectores de la imágen utilizando la transformación en los vectores del dominio.\n",
    "\n",
    "El efecto de transformación de una matriz ortogonal es el de preservar los ángulos y dimensiones entre vectores que se están transformando."
   ]
  },
  {
   "cell_type": "markdown",
   "metadata": {},
   "source": [
    "### Pregunta 3\n",
    "\n",
    "La descomposición de valores singulares de una matriz es la factorización última y mejor de una matriz de la siguiente manera:\n",
    "\n",
    "\\begin{equation*}\n",
    "Ax = U \\Sigma V^T\n",
    "\\end{equation*}\n",
    "\n",
    "Donde:\n",
    "\\begin{equation*}\n",
    "U = Matriz Ortogonal\\\\\n",
    "\\Sigma = Matriz Diagonal\\\\\n",
    "V^T = Ortogonal\\\\\n",
    "\\end{equation*}\n",
    "\n",
    "Ventaja: No es necesario tener matrices cuadradas\n"
   ]
  },
  {
   "cell_type": "markdown",
   "metadata": {},
   "source": [
    "### Pregunta 4\n",
    "\n",
    "En el caso de los eigenvalores y eigenvectores, diagonalizar una matriz significa factorizar los eigenvalores para que puedan multiplicar a las columnas de eigenvectores individualmente. \n",
    "\n",
    "Los eigenvectores representan el sistema de coordenadas, la dirección.\n"
   ]
  },
  {
   "cell_type": "markdown",
   "metadata": {},
   "source": [
    "### Pregunta 5\n",
    "\n",
    "Eigenvectores: Intuitivamente, son vectores que despúes de haberlos transformado con una matriz Ax, tienen una dirección paralela a 'x' (sin importar si es positiva o negativa)."
   ]
  },
  {
   "cell_type": "markdown",
   "metadata": {},
   "source": [
    "### Pregunta 6"
   ]
  },
  {
   "cell_type": "markdown",
   "metadata": {},
   "source": [
    "La descomposición en valores singulares como una composición de tres tipos de transformaciones lineales simples se puede interpetar de la siguiente manera:\n",
    "\n",
    "Rotación + Redimensión de los ejes canónicos + Rotación\n",
    "\n"
   ]
  },
  {
   "cell_type": "markdown",
   "metadata": {},
   "source": [
    "### Pregunta 7\n",
    "\n",
    "La relación entre Valores Singulares y diagonalización es que en ambos casos se obtienen por separado los eigenvalores de los eigenvectores.\n",
    "\n",
    "La SVD te da información similar a la diagonalización pero para matrices que no sean cuadradas."
   ]
  },
  {
   "cell_type": "markdown",
   "metadata": {},
   "source": [
    "### Pregunta 8\n",
    "\n",
    "Se utiliza para saber a qué valores de x en la ecuación Ax=y se aproximan más, considerando que A tiene rango menor."
   ]
  },
  {
   "cell_type": "markdown",
   "metadata": {},
   "source": [
    "### Pregunta 9\n",
    "\n",
    "La minimización por descenso gradiente es un método de optimización en el que se busca la pendiente de una curva, superficie, etc. que vaya en descenso; al momento de encontrar una pendiente que no sea decrecientese dice que este último valor con pendiente negativa es el mínimo."
   ]
  },
  {
   "cell_type": "markdown",
   "metadata": {},
   "source": [
    "### Pregunta 10\n",
    "\n",
    "Ejemplos de optimización (con restricciones) que me parecen importantes como científico de datos:\n",
    "\n",
    "#### Con restricción\n",
    "\n",
    "1) Optimización para el análisis de \"multibody dynamics\", dónde se busca optimizar el comportamiento de cierto mecanismo para que cumpla con objetivos establecidos de comportamientos. La restricción en este caso es la unión con otros sistemas o mecanismos; lo que haría que los resultados se vean acotados por los de otro sistema.\n",
    "\n",
    "2) Para mí es de gran interés e importancia este tipo de investigación para análisis de consumo en los supermerados, donde se optimiza los productos seleccionados a que haya la mayor cantidad de venta de cierta marca. Bajo esta optimización hay distintas restricciones como: el catálogo que tiene la empresa, las características demográficas a las que se quiere enfocar cada producto o la calidad del producto que se quiere comercializar.\n",
    "\n",
    "#### Sin restricción\n",
    "\n",
    "3) Optimización de ciclos de vida del motor de un automóvil. En este caso se busca maximizar la vida útil del motor involucrando una gran cantidad de factores donde también se tienen que combinar con itinerarios de mantenimiento preventivo entre otras cosas.\n",
    "\n",
    "4) Optimización de una empresa manufurera; en este tipo de negocio hay distintas áreas que necesitan optimización; tales pueden ser: supply chain, procesos de manufactura, logística, etc."
   ]
  },
  {
   "cell_type": "code",
   "execution_count": null,
   "metadata": {
    "collapsed": true
   },
   "outputs": [],
   "source": []
  }
 ],
 "metadata": {
  "kernelspec": {
   "display_name": "Python 3",
   "language": "python",
   "name": "python3"
  },
  "language_info": {
   "codemirror_mode": {
    "name": "ipython",
    "version": 3
   },
   "file_extension": ".py",
   "mimetype": "text/x-python",
   "name": "python",
   "nbconvert_exporter": "python",
   "pygments_lexer": "ipython3",
   "version": "3.6.1"
  }
 },
 "nbformat": 4,
 "nbformat_minor": 2
}

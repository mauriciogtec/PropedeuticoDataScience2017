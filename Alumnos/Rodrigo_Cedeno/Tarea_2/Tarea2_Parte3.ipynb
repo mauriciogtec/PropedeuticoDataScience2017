{
 "cells": [
  {
   "cell_type": "code",
   "execution_count": 374,
   "metadata": {},
   "outputs": [],
   "source": [
    "#Importar libererías\n",
    "import numpy as np\n",
    "\n",
    "#Hacer pseudoinversa de la matriz\n",
    "def pseudoinverse(mat_A):\n",
    "    pseudo_mat = np.linalg.pinv(mat_A)\n",
    "    return pseudo_mat\n",
    "\n",
    "#Resolver ecuación Ax=b con método de pseudoinversa\n",
    "def solve_with_pseudo(A,b):\n",
    "    pseudo_A = pseudoinverse (A)\n",
    "    x = np.matmul(pseudo_A,b)\n",
    "    return x\n",
    "    \n"
   ]
  },
  {
   "cell_type": "markdown",
   "metadata": {},
   "source": [
    "### a) ¿Cuál es la imágen de la matriz?\n",
    "\n",
    "La imágen de esta matriz es:\n",
    "\n",
    "\\begin{equation*}\n",
    "\\{(x \\ , \\ 0): x \\ \\epsilon \\ R \\}\n",
    "\\end{equation*}"
   ]
  },
  {
   "cell_type": "markdown",
   "metadata": {},
   "source": [
    "### b) ¿La solución resultante es única? Si hay más de una solución, investigar que carateriza a la solución devuelta.\n",
    "\n",
    "La solución resultante no es única; debido a que la matriz es singular (no es invertible y su determinante = 0). Se puede decir que hay una infinidad de resultados."
   ]
  },
  {
   "cell_type": "markdown",
   "metadata": {},
   "source": [
    "### c) Cambiando  A=[[1,1],[0,1e-32]], ¿En este caso la solucíon es única? ¿Cambia el valor devuelto de x en cada posible valor de b del punto anterior?\n",
    "\n",
    "Iterando con el código anterior se puede observar que no hay una solución única, cambia el valor devuelto de 'x' en cada posible valor de b del punto anterior."
   ]
  }
 ],
 "metadata": {
  "kernelspec": {
   "display_name": "Python 3",
   "language": "python",
   "name": "python3"
  },
  "language_info": {
   "codemirror_mode": {
    "name": "ipython",
    "version": 3
   },
   "file_extension": ".py",
   "mimetype": "text/x-python",
   "name": "python",
   "nbconvert_exporter": "python",
   "pygments_lexer": "ipython3",
   "version": "3.6.1"
  }
 },
 "nbformat": 4,
 "nbformat_minor": 2
}

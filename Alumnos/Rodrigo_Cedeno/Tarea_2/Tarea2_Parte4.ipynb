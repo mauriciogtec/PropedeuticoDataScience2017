{
 "cells": [
  {
   "cell_type": "code",
   "execution_count": 93,
   "metadata": {},
   "outputs": [],
   "source": [
    "import numpy as np\n",
    "import pandas as pd\n",
    "\n",
    "#Crear Data Frame con archivo CSV\n",
    "df = pd.DataFrame(pd.read_csv(\"study_vs_sat.csv\", parse_dates=True))\n",
    "\n",
    "# Cambiar nombre a columnas\n",
    "newcols = {\n",
    "    'Unnamed: 0': 'study_hours', \n",
    "    'Unnamed: 1': 'sat_score',}\n",
    "df.rename(columns=newcols, inplace=True)\n",
    "\n",
    "#Borrar columnas vacías\n",
    "df.drop('Unnamed: 2', axis=1, inplace=True)\n",
    "df.drop('Unnamed: 3', axis=1, inplace=True)\n",
    "df.drop('Unnamed: 4', axis=1, inplace=True)\n",
    "df.drop('Unnamed: 5', axis=1, inplace=True)\n",
    "df.drop('Unnamed: 6', axis=1, inplace=True)\n",
    "\n",
    "#Comenzar OLS\n",
    "\n",
    "y = df.sat_score\n",
    "x = df.study_hours\n",
    "\n",
    "y_mean = pd.DataFrame.mean(y)\n",
    "x_mean = pd.DataFrame.mean(x)\n",
    "sum_vals = 0\n",
    "\n",
    "def Beta():\n",
    "    for i in y:\n",
    "        sub_x_val = df.iloc[i][0] - x_mean\n",
    "        sub_y_val = df.iloc[i][1] - y_mean\n",
    "        mult_subx_suby = sub_x_val * sub_y_val\n",
    "        sum_vals = sum_vals + mult_subx_suby\n",
    "        sum_x_vals = sum_x_vals + sub_x_val\n",
    "    beta = sum_vals / sum_x_vals\n",
    "    return beta\n",
    "\n"
   ]
  },
  {
   "cell_type": "code",
   "execution_count": null,
   "metadata": {},
   "outputs": [],
   "source": []
  },
  {
   "cell_type": "code",
   "execution_count": null,
   "metadata": {
    "collapsed": true
   },
   "outputs": [],
   "source": []
  }
 ],
 "metadata": {
  "kernelspec": {
   "display_name": "Python 3",
   "language": "python",
   "name": "python3"
  },
  "language_info": {
   "codemirror_mode": {
    "name": "ipython",
    "version": 3
   },
   "file_extension": ".py",
   "mimetype": "text/x-python",
   "name": "python",
   "nbconvert_exporter": "python",
   "pygments_lexer": "ipython3",
   "version": "3.6.1"
  }
 },
 "nbformat": 4,
 "nbformat_minor": 2
}
